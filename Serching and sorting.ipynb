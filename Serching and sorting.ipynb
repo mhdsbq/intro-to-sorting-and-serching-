{
 "metadata": {
  "language_info": {
   "codemirror_mode": {
    "name": "ipython",
    "version": 3
   },
   "file_extension": ".py",
   "mimetype": "text/x-python",
   "name": "python",
   "nbconvert_exporter": "python",
   "pygments_lexer": "ipython3",
   "version": "3.8.8"
  },
  "orig_nbformat": 2,
  "kernelspec": {
   "name": "python388jvsc74a57bd00f63ba444739e64fa41adee758c322cb774cd233e398a45f1629d73d29db36f4",
   "display_name": "Python 3.8.8 64-bit ('base': conda)"
  },
  "metadata": {
   "interpreter": {
    "hash": "8be7fbc789268433cdf0ea7a7845956e7d975fa9d41d64f30fea24cd6cfda4c5"
   }
  }
 },
 "nbformat": 4,
 "nbformat_minor": 2,
 "cells": [
  {
   "source": [
    "### MIT 6.0001\n",
    "# Serching And Sorting    "
   ],
   "cell_type": "markdown",
   "metadata": {}
  },
  {
   "source": [
    "## Linear search on unsorted list\n",
    "\n",
    "* Oreder of complexity is Linear\n",
    "* Iterate through each element of the list to fiend and return the element"
   ],
   "cell_type": "markdown",
   "metadata": {}
  },
  {
   "cell_type": "code",
   "execution_count": 2,
   "metadata": {},
   "outputs": [],
   "source": [
    "def linear_search(L,e):\n",
    "    found = False\n",
    "    for i in range(len(L)):\n",
    "        if e == L[i]:\n",
    "            found = True\n",
    "    return found        "
   ]
  },
  {
   "source": [
    "print(linear_search(['a', 'b', 'c', 'd'], 'c'))"
   ],
   "cell_type": "code",
   "metadata": {},
   "execution_count": 13,
   "outputs": [
    {
     "output_type": "stream",
     "name": "stdout",
     "text": [
      "True\n"
     ]
    }
   ]
  },
  {
   "source": [
    "#\n",
    "* We could breake the loop after fiending element but it doest improove the worst case \n",
    "* Coplexity would be 1+3n ie; O(n)\n"
   ],
   "cell_type": "markdown",
   "metadata": {}
  },
  {
   "source": [
    "## Linear search on sorted list \n",
    "* Return false if elemet not found or next element is grater than given value \n",
    "* This would reduce the average time but does not improve worst case from that of linear search\n",
    "* So the complexiety will be still O(n)"
   ],
   "cell_type": "markdown",
   "metadata": {}
  },
  {
   "cell_type": "code",
   "execution_count": 19,
   "metadata": {},
   "outputs": [],
   "source": [
    "def search(L, e):\n",
    "    for i in range(len(L)):\n",
    "        if L[i] == e:\n",
    "            return True\n",
    "        elif L[i] > e:\n",
    "            return False\n",
    "    return False             "
   ]
  },
  {
   "cell_type": "code",
   "execution_count": 27,
   "metadata": {},
   "outputs": [
    {
     "output_type": "stream",
     "name": "stdout",
     "text": [
      "False\nTrue\n"
     ]
    }
   ],
   "source": [
    "print(search([1, 2, 3, 4, 6, 7, 8, 9],5))\n",
    "print(search([1, 2, 3, 4, 6, 7, 8, 9],8))"
   ]
  },
  {
   "source": [
    "## Bisection search\n",
    "* Bisect the list in each iterations\n",
    "* Devide and conqure method\n",
    "* Look the middle number then ask is the value grater than or less than the mid point if it is grater then avoid the lower part and continue ding this else look at the bottom half and continue\n",
    "* This algorithem reduces the size of element by half on each iterations \n",
    "* By n steps the number of elements will be n/2^i \n",
    "* The time complexiety will be O(log(n))"
   ],
   "cell_type": "markdown",
   "metadata": {}
  },
  {
   "cell_type": "code",
   "execution_count": 1,
   "metadata": {},
   "outputs": [],
   "source": [
    "def bisect_search(L,e):\n",
    "    def bisect_search_helper(L, e, low, high):\n",
    "        if high == low:\n",
    "            return L[low] == e \n",
    "        mid = (high + low) // 2\n",
    "        if L[mid] == e:\n",
    "            return True\n",
    "        elif L[mid] > e:\n",
    "            if low  == mid:     # Nothing left to search\n",
    "                return False\n",
    "            else:\n",
    "                return bisect_search_helper(L, e, low, mid-1)\n",
    "        else:\n",
    "            return bisect_search_helper(L, e, mid+1, high)\n",
    "    if len(L) == 0:\n",
    "        return False\n",
    "    else:\n",
    "        return bisect_search_helper(L, e, 0, len(L) - 1)                                     "
   ]
  },
  {
   "cell_type": "code",
   "execution_count": 3,
   "metadata": {},
   "outputs": [
    {
     "output_type": "stream",
     "name": "stdout",
     "text": [
      "False\nTrue\n"
     ]
    }
   ],
   "source": [
    "print(bisect_search([1,2,3,4,6,7,8,9],5))\n",
    "print(bisect_search([1,2,3,4,6,7,8,9],6))"
   ]
  },
  {
   "source": [
    "## So When does it make sense to sort the list and then search?\n",
    "### after sorting search would be logarithamic complexiety. Sort always take O(n) or more time. But if we have to do multipple searchs the cost of search will be spread accross\n"
   ],
   "cell_type": "markdown",
   "metadata": {}
  },
  {
   "source": [
    "## How to sort efficiently"
   ],
   "cell_type": "markdown",
   "metadata": {}
  },
  {
   "source": [
    "## 1.monkey  sort\n",
    "* permutation sorting. randomly shuffle to check wether list is sorted\n",
    "* Best case O(n) complexiety where n is len(L)\n",
    "* Worst case is unbonded if really unlucky\n"
   ],
   "cell_type": "markdown",
   "metadata": {}
  },
  {
   "cell_type": "code",
   "execution_count": null,
   "metadata": {},
   "outputs": [],
   "source": [
    "def bogo_sort(L):\n",
    "    while not is_sorted(L):\n",
    "        random.shuffle(L)"
   ]
  },
  {
   "source": [
    "## 2.Bubble sort\n",
    "* compare consecutive pairs of elements\n",
    "* swap elements in pair such that smaller is first \n",
    "* when reach end of the list start over again \n",
    "* stop when no more swaps have been made \n",
    "* largest un sorted element always at the end after pass, so at most n passes\n",
    "* nested loops so time is O(n^2) -- quadractic "
   ],
   "cell_type": "markdown",
   "metadata": {}
  },
  {
   "cell_type": "code",
   "execution_count": 9,
   "metadata": {},
   "outputs": [],
   "source": [
    "def bubble_sort(L):\n",
    "    swap = True\n",
    "    while swap:\n",
    "        print('bubble sort: ' + str(L))\n",
    "        swap = False\n",
    "        for i in range(1,len(L)):\n",
    "            if L[i-1] > L[i]:\n",
    "                temp = L[i-1]\n",
    "                L[i-1] = L[i]\n",
    "                L[i] = temp\n",
    "                swap = True\n",
    "    return L        \n"
   ]
  },
  {
   "cell_type": "code",
   "execution_count": 10,
   "metadata": {},
   "outputs": [
    {
     "output_type": "stream",
     "name": "stdout",
     "text": [
      "bubble sort: [4, 5, 1, 9, 3, 7, 2, 5, 0, 4]\nbubble sort: [4, 1, 5, 3, 7, 2, 5, 0, 4, 9]\nbubble sort: [1, 4, 3, 5, 2, 5, 0, 4, 7, 9]\nbubble sort: [1, 3, 4, 2, 5, 0, 4, 5, 7, 9]\nbubble sort: [1, 3, 2, 4, 0, 4, 5, 5, 7, 9]\nbubble sort: [1, 2, 3, 0, 4, 4, 5, 5, 7, 9]\nbubble sort: [1, 2, 0, 3, 4, 4, 5, 5, 7, 9]\nbubble sort: [1, 0, 2, 3, 4, 4, 5, 5, 7, 9]\nbubble sort: [0, 1, 2, 3, 4, 4, 5, 5, 7, 9]\n"
     ]
    },
    {
     "output_type": "execute_result",
     "data": {
      "text/plain": [
       "[0, 1, 2, 3, 4, 4, 5, 5, 7, 9]"
      ]
     },
     "metadata": {},
     "execution_count": 10
    }
   ],
   "source": [
    "bubble_sort([4,5,1,9,3,7,2,5,0,4])"
   ]
  },
  {
   "source": [
    "## 3.Selection sort\n",
    "* extract minimum element \n",
    "* swap it with index of element 0 \n",
    "* in remaining siblist, extract minimum element \n",
    "* swap it with element at index 1\n",
    "* keep the first elements sorted\n",
    "* this is quadractic time complexiety\n",
    "* O(n^2)"
   ],
   "cell_type": "markdown",
   "metadata": {}
  },
  {
   "cell_type": "code",
   "execution_count": 95,
   "metadata": {},
   "outputs": [],
   "source": [
    "def selection_sort(L):\n",
    "    suffixSt = 0\n",
    "    loop_count = 0\n",
    "    while suffixSt != len(L):\n",
    "        for i in range(suffixSt, len(L)):\n",
    "            loop_count += 1\n",
    "            if L[i] < L[suffixSt]:\n",
    "                L[suffixSt], L[i] = L[i], L[suffixSt]\n",
    "        suffixSt += 1\n",
    "    print('loop count=', loop_count)  \n",
    "    return L \n"
   ]
  },
  {
   "cell_type": "code",
   "execution_count": 96,
   "metadata": {},
   "outputs": [
    {
     "output_type": "stream",
     "name": "stdout",
     "text": [
      "loop count= 55\n[0, 2, 3, 3, 4, 5, 5, 6, 7, 9]\n"
     ]
    }
   ],
   "source": [
    "print(selection_sort([6,7,3,5,9,2,0,3,5,4]))"
   ]
  },
  {
   "cell_type": "code",
   "execution_count": 97,
   "metadata": {},
   "outputs": [],
   "source": [
    "# insted of while loop for loop is used  \n",
    "def my_selection_sort(L):\n",
    "    loop_count = 0\n",
    "    for i in range(len(L)):\n",
    "        min, elm = L[i], i\n",
    "        for j in range (i,len(L)):\n",
    "            loop_count += 1\n",
    "            if L[j]< min:\n",
    "                min, elm = L[j], j\n",
    "        L[i], L[elm] = L[elm], L[i]\n",
    "    print('loop count:', loop_count)\n",
    "    return L\n"
   ]
  },
  {
   "cell_type": "code",
   "execution_count": 98,
   "metadata": {},
   "outputs": [
    {
     "output_type": "stream",
     "name": "stdout",
     "text": [
      "loop count: 55\n"
     ]
    },
    {
     "output_type": "execute_result",
     "data": {
      "text/plain": [
       "[0, 2, 3, 3, 4, 5, 5, 6, 7, 9]"
      ]
     },
     "metadata": {},
     "execution_count": 98
    }
   ],
   "source": [
    "my_selection_sort([6,7,3,5,9,2,0,3,5,4])"
   ]
  },
  {
   "cell_type": "code",
   "execution_count": 101,
   "metadata": {},
   "outputs": [],
   "source": [
    "# insted of using new variables to store minimum and its index, modify the list itself\n",
    "def improved_my_selection_sort(L):\n",
    "    loop_count = 0\n",
    "    for i in range(len(L)):\n",
    "        for j in range (i,len(L)):\n",
    "            loop_count += 1\n",
    "            if L[j]< L[i]:  \n",
    "                L[i], L[j] = L[j], L[i]\n",
    "    print('loop count:', loop_count)\n",
    "    return L"
   ]
  },
  {
   "cell_type": "code",
   "execution_count": 102,
   "metadata": {},
   "outputs": [
    {
     "output_type": "stream",
     "name": "stdout",
     "text": [
      "loop count: 55\n"
     ]
    },
    {
     "output_type": "execute_result",
     "data": {
      "text/plain": [
       "[0, 2, 3, 3, 4, 5, 5, 6, 7, 9]"
      ]
     },
     "metadata": {},
     "execution_count": 102
    }
   ],
   "source": [
    "improved_my_selection_sort([6,7,3,5,9,2,0,3,5,4])"
   ]
  },
  {
   "source": [
    "## 4.Merge sort\n",
    "* total log n operations and in each iterations n steps .\n",
    "* This is a nlog(n) complexiety\n",
    "* This is the BEST worst case algorithem for sorting"
   ],
   "cell_type": "markdown",
   "metadata": {}
  },
  {
   "cell_type": "code",
   "execution_count": 117,
   "metadata": {},
   "outputs": [],
   "source": [
    "def merge(left, right):\n",
    "    result = []\n",
    "    i,j = 0,0\n",
    "    while (i < len(left) and j < len(right)):\n",
    "        if left[i] < right[j]:\n",
    "            result.append(left[i])\n",
    "            i +=1\n",
    "        else:\n",
    "            result.append(right[j])\n",
    "            j +=1  \n",
    "    while (i < len(left)): # j will be zero\n",
    "        result.append(left[i])\n",
    "        i += 1\n",
    "    while (j < len(right)):\n",
    "        result.append(right[j])\n",
    "        j += 1\n",
    "    return result     \n",
    "\n",
    "def merge_sort(L):\n",
    "    if len(L) < 2:\n",
    "        return(L[:])\n",
    "    else:\n",
    "        middle = len(L)//2 \n",
    "        left = merge_sort(L[middle:]) \n",
    "        right = merge_sort(L[:middle])  \n",
    "        return merge(left, right)   \n"
   ]
  },
  {
   "cell_type": "code",
   "execution_count": 118,
   "metadata": {},
   "outputs": [
    {
     "output_type": "stream",
     "name": "stdout",
     "text": [
      "[1, 2, 3, 4, 4, 5, 6, 7, 8, 9, 10, 11, 12]\n[1, 2, 3, 4, 4, 5, 6, 7, 8, 9, 10, 11, 12]\n"
     ]
    }
   ],
   "source": [
    "print(merge([1,3,4,6],[2,4,5,7,8,9,10,11,12]))\n",
    "\n",
    "print(merge_sort([1,3,4,6,2,4,5,7,8,9,10,11,12]))"
   ]
  },
  {
   "cell_type": "code",
   "execution_count": null,
   "metadata": {},
   "outputs": [],
   "source": []
  }
 ]
}